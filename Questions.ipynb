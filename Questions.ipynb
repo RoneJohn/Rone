{
 "cells": [
  {
   "cell_type": "code",
   "execution_count": null,
   "metadata": {},
   "outputs": [],
   "source": [
    "#Is A String Immutable Or Mutable In Python?\n",
    "\n",
    "Python strings are immutable. However, a is not a string: \n",
    " it is a variable with a string value.\n",
    "You can't mutate the string, but can change what value of the variable to a new string\n",
    "\n"
   ]
  },
  {
   "cell_type": "code",
   "execution_count": null,
   "metadata": {},
   "outputs": [],
   "source": [
    "#What Is Docstring In Python?\n",
    "\n",
    "A docstring is simply a multi-line string, that is not assigned to anything. \n",
    "It is specified in source code that is used to document a specific segment of code."
   ]
  },
  {
   "cell_type": "code",
   "execution_count": null,
   "metadata": {},
   "outputs": [],
   "source": [
    " #call by value and call by reference ? \n",
    "Call by value method copies the value of an argument into the formal parameter of that function. \n",
    "Call by reference method copies the address of an argument into the formal parameter. \n"
   ]
  },
  {
   "cell_type": "code",
   "execution_count": null,
   "metadata": {},
   "outputs": [],
   "source": [
    " #Why Do You Use The Zip() Method In Python?\n",
    "  Python's zip() function creates an iterator that will aggregate elements from two or more iterables. \n",
    "  You can use the resulting iterator to quickly and consistently solve common programming problems, like creating dictionaries  \n",
    "    "
   ]
  },
  {
   "cell_type": "code",
   "execution_count": null,
   "metadata": {},
   "outputs": [],
   "source": [
    "#How Do You Handle Exceptions With Try/Except/Finally In Python?\n",
    "\n",
    "In Python, exceptions can be handled using a try statement.\n",
    "\n",
    "A critical operation which can raise exception is placed inside the try clause and \n",
    "the code that handles exception is written in except clause."
   ]
  },
  {
   "cell_type": "code",
   "execution_count": null,
   "metadata": {},
   "outputs": [],
   "source": [
    "# What Does The “Self” Keyword Do?\n",
    "\n",
    "self represents the instance of the class. By using the “self” keyword we can access the attributes and methods of the \n",
    "class in python. \n",
    "It binds the attributes with the given arguments. \n",
    "self is parameter in function and user can use another parameter name in place of it."
   ]
  },
  {
   "cell_type": "code",
   "execution_count": null,
   "metadata": {},
   "outputs": [],
   "source": [
    "# What Are The Different Methods To Copy An Object In Python?\n",
    "\t- Deep copy: a copy of \tobject is copied to other object. means any changes made in one object doesn't effect to other.\n",
    "\t l2  = copy.deepcopy(l2)\n",
    "\t \n",
    "\t- Shallow copy: A ref of obj is copied to another object. If changes in one object affects to other.\n",
    "\t- l1 = copy.copy(l2 )"
   ]
  },
  {
   "cell_type": "code",
   "execution_count": null,
   "metadata": {},
   "outputs": [],
   "source": [
    "# Why And When Do You Use Generators In Python?\n",
    "Generators introduce the yield statement to Python.\n",
    "It works a bit like return because it returns a value.\n",
    "\n",
    "The difference is that it saves the state of the function.\n",
    "The next time the function is called, execution continues from where it left off,\n",
    "with the same variable values it had before yielding.\n",
    "\n",
    "number = 1    while number < max:        number += 1        if check_prime(number):            yield number\n",
    "primes = Primes(100000000000)\n",
    "print(primes)\n",
    "for x in primes:    print(x)"
   ]
  },
  {
   "cell_type": "code",
   "execution_count": null,
   "metadata": {},
   "outputs": [],
   "source": [
    "#What is pickling and unpickling? \n",
    "\n",
    "Pickling - is the process whereby a Python object hierarchy is converted into a byte stream, and\n",
    "Unpickling - is the inverse operation, whereby a byte stream is converted back into an object hierarchy"
   ]
  },
  {
   "cell_type": "code",
   "execution_count": null,
   "metadata": {},
   "outputs": [],
   "source": [
    "#What is namespace in Python?\n",
    "\n",
    "a namespace (sometimes also called a context) is a naming system for making names unique to avoid ambiguity. ...\n",
    "Namespaces in Python are implemented as Python dictionaries, \n",
    "this means it is a mapping from names (keys) to objects (values).\n"
   ]
  },
  {
   "cell_type": "code",
   "execution_count": null,
   "metadata": {},
   "outputs": [],
   "source": [
    "#How can you share global variables across modules?\n",
    "\n",
    "The canonical way to share information across modules within a single program \n",
    "is to create a special module (often called config or cfg)"
   ]
  },
  {
   "cell_type": "code",
   "execution_count": null,
   "metadata": {},
   "outputs": [],
   "source": [
    "#write code for dedk of cards and access ?\n",
    "\n",
    "import random \n",
    "def shuffle(card,n) : \n",
    "      \n",
    "    # Initialize seed randomly \n",
    "    for i in range(n): \n",
    "          \n",
    "        # Random for remaining positions. \n",
    "        r = i + (random.randint(0,55) % (52 -i)) \n",
    "        tmp=card[i] \n",
    "        card[i]=card[r] \n",
    "        card[r]=tmp \n",
    "#Driver code \n",
    "if __name__=='__main__': \n",
    "    a=[0, 1, 2, 3, 4, 5, 6, 7, 8, \n",
    "       9, 10, 11, 12, 13, 14, 15, \n",
    "       16, 17, 18, 19, 20, 21, 22,  \n",
    "       23, 24, 25, 26, 27, 28, 29, \n",
    "       30, 31, 32, 33, 34, 35, 36, \n",
    "       37, 38, 39, 40, 41, 42, 43,  \n",
    "       44, 45, 46, 47, 48, 49, 50, \n",
    "       51] \n",
    "    shuffle(a,52) \n",
    "    print(a) "
   ]
  },
  {
   "cell_type": "code",
   "execution_count": 2,
   "metadata": {},
   "outputs": [
    {
     "name": "stdout",
     "output_type": "stream",
     "text": [
      "Minimum difference is 1\n"
     ]
    }
   ],
   "source": [
    "#get the minimum difference between elements in the lists ?\n",
    "def findMinDiff(arr, n): \n",
    "  \n",
    "    # Sort array in non-decreasing order \n",
    "    arr = sorted(arr) \n",
    "  \n",
    "    # Initialize difference as infinite \n",
    "    diff = 10**20\n",
    "  \n",
    "    # Find the min diff by comparing adjacent \n",
    "    # pairs in sorted array \n",
    "    for i in range(n-1): \n",
    "        if arr[i+1] - arr[i] < diff: \n",
    "            diff = arr[i+1] - arr[i] \n",
    "  \n",
    "    # Return min diff \n",
    "    return diff \n",
    "  \n",
    "# Driver code \n",
    "arr = [1, 5, 3, 19, 18, 25] \n",
    "n = len(arr) \n",
    "print(\"Minimum difference is \" + str(findMinDiff(arr, n))) \n"
   ]
  },
  {
   "cell_type": "code",
   "execution_count": null,
   "metadata": {},
   "outputs": [],
   "source": []
  }
 ],
 "metadata": {
  "kernelspec": {
   "display_name": "Python 3",
   "language": "python",
   "name": "python3"
  },
  "language_info": {
   "codemirror_mode": {
    "name": "ipython",
    "version": 3
   },
   "file_extension": ".py",
   "mimetype": "text/x-python",
   "name": "python",
   "nbconvert_exporter": "python",
   "pygments_lexer": "ipython3",
   "version": "3.7.4"
  }
 },
 "nbformat": 4,
 "nbformat_minor": 2
}

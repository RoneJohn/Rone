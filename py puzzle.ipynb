{
 "cells": [
  {
   "cell_type": "code",
   "execution_count": 7,
   "metadata": {},
   "outputs": [
    {
     "name": "stdout",
     "output_type": "stream",
     "text": [
      "Want to know the answer?YES\n",
      "True\n"
     ]
    }
   ],
   "source": [
    "def ask(prompt, retries=4, output='Error'): \n",
    "    for _ in range(retries): \n",
    "        response = input(prompt).lower() \n",
    "        if response in ['y', 'yes']: \n",
    "            return True \n",
    "        if response in ['n', 'no']: \n",
    "            return False \n",
    "        print(output)\n",
    "        \n",
    "        \n",
    "print(ask('Want to know the answer?', 2))\n"
   ]
  },
  {
   "cell_type": "code",
   "execution_count": 8,
   "metadata": {},
   "outputs": [
    {
     "name": "stdout",
     "output_type": "stream",
     "text": [
      "[1, 2]\n"
     ]
    }
   ],
   "source": [
    "a = ['a', 'b'] \n",
    "n = [1, 2]\n",
    "x = [a, n] \n",
    "print(x[1])\n"
   ]
  },
  {
   "cell_type": "code",
   "execution_count": 9,
   "metadata": {},
   "outputs": [
    {
     "name": "stdout",
     "output_type": "stream",
     "text": [
      "['a']\n"
     ]
    }
   ],
   "source": [
    "letters = ['a', 'b', 'c', 'd', 'e', 'f', 'g'] \n",
    "letters[1:] = [] \n",
    "print(letters)"
   ]
  },
  {
   "cell_type": "code",
   "execution_count": 10,
   "metadata": {},
   "outputs": [
    {
     "name": "stdout",
     "output_type": "stream",
     "text": [
      "1\n",
      "1\n",
      "2\n",
      "3\n"
     ]
    }
   ],
   "source": [
    "a, b = 0, 1 \n",
    "while b < 5: \n",
    "    print(b) \n",
    "    a, b = b, a + b\n"
   ]
  },
  {
   "cell_type": "code",
   "execution_count": 2,
   "metadata": {},
   "outputs": [
    {
     "name": "stdout",
     "output_type": "stream",
     "text": [
      "3\n",
      "5\n",
      "7\n",
      "9\n"
     ]
    }
   ],
   "source": [
    "for num in range(2, 10): \n",
    "    if not num % 2: \n",
    "        continue \n",
    "    print(num)"
   ]
  },
  {
   "cell_type": "code",
   "execution_count": 14,
   "metadata": {},
   "outputs": [
    {
     "name": "stdout",
     "output_type": "stream",
     "text": [
      "9\n",
      "6\n",
      "-40\n"
     ]
    }
   ],
   "source": [
    "print(range(5, 10)[-1])\n",
    "print(range(0, 10, 3)[2])\n",
    "print(range(-10, -100, -30)[1])"
   ]
  },
  {
   "cell_type": "code",
   "execution_count": 49,
   "metadata": {},
   "outputs": [
    {
     "name": "stdout",
     "output_type": "stream",
     "text": [
      "12\n",
      "16\n",
      "17\n",
      "False\n"
     ]
    }
   ],
   "source": [
    "def matrix_find(matrix, value): \n",
    "    if not matrix or not matrix[0]: \n",
    "        return False\n",
    "    j = len(matrix) - 1 \n",
    "    for row in matrix: \n",
    "        while row[j] > value:\n",
    "            print(row[j])\n",
    "            j = j - 1 \n",
    "            if j == -1:\n",
    "                return False \n",
    "        if row[j] == value:\n",
    "            return True \n",
    "    return False\n",
    "\n",
    "\n",
    "matrix = [[3, 4, 4, 6],\n",
    "          [6, 8, 16, 12], \n",
    "          [6, 8, 11, 15], \n",
    "          [9, 17, 11, 17]] \n",
    "print(matrix_find(matrix=matrix, value=11))\n"
   ]
  },
  {
   "cell_type": "code",
   "execution_count": 47,
   "metadata": {},
   "outputs": [
    {
     "name": "stdout",
     "output_type": "stream",
     "text": [
      "[3, 4, 4, 6]\n",
      "[6, 8, 11, 12]\n",
      "[6, 8, 11, 15]\n",
      "[9, 11, 12, 17]\n"
     ]
    }
   ],
   "source": [
    "matrix = [[3, 4, 4, 6],\n",
    "          [6, 8, 11, 12], \n",
    "          [6, 8, 11, 15], \n",
    "          [9, 11, 12, 17]] \n",
    "value=11\n",
    "for row in matrix:\n",
    "    print(row)"
   ]
  },
  {
   "cell_type": "code",
   "execution_count": 22,
   "metadata": {},
   "outputs": [
    {
     "ename": "IndentationError",
     "evalue": "unindent does not match any outer indentation level (<tokenize>, line 8)",
     "output_type": "error",
     "traceback": [
      "\u001b[1;36m  File \u001b[1;32m\"<tokenize>\"\u001b[1;36m, line \u001b[1;32m8\u001b[0m\n\u001b[1;33m    return lst\u001b[0m\n\u001b[1;37m    ^\u001b[0m\n\u001b[1;31mIndentationError\u001b[0m\u001b[1;31m:\u001b[0m unindent does not match any outer indentation level\n"
     ]
    }
   ],
   "source": [
    "def bubble_sort(lst):\n",
    "    '''Implementation of bubble sort algorithm'''\n",
    "for border in range(len(lst)-1, 0, -1): \n",
    "for i in range(border): \n",
    "        if lst[i] > lst[i + 1]: \n",
    "            lst[i]=lst[i + 1] \n",
    "            lst[i + 1]= lst[i]\n",
    "    return lst\n",
    "list_to_sort = [27, 0, 71, 70, 27, 63, 90]\n",
    "print(bubble_sort(lst=list_to_sort))\n"
   ]
  },
  {
   "cell_type": "code",
   "execution_count": 20,
   "metadata": {},
   "outputs": [
    {
     "name": "stdout",
     "output_type": "stream",
     "text": [
      "6\n"
     ]
    }
   ],
   "source": [
    "def bsearch(l, value): \n",
    "    lo, hi = 0, len(l)-1\n",
    "    while lo <= hi:\n",
    "        mid = (lo + hi) // 2 \n",
    "        if l[mid] < value: \n",
    "            lo = mid + 1 \n",
    "        elif value< l[mid]:\n",
    "                hi = mid - 1 \n",
    "        else: \n",
    "                 return mid\n",
    "    return -1\n",
    "l = [0, 1, 2, 3, 4, 5, 6] \n",
    "x = 6 \n",
    "print(bsearch(l,x))\n"
   ]
  },
  {
   "cell_type": "code",
   "execution_count": 23,
   "metadata": {},
   "outputs": [
    {
     "name": "stdout",
     "output_type": "stream",
     "text": [
      "mouse\n"
     ]
    }
   ],
   "source": [
    "words = ['cat', 'mouse', 'dog'] \n",
    "for word in words[:]: \n",
    "    if len(word) > 3: \n",
    "        words.insert(0, word) \n",
    "        print(words[0])\n"
   ]
  },
  {
   "cell_type": "code",
   "execution_count": 28,
   "metadata": {},
   "outputs": [
    {
     "name": "stdout",
     "output_type": "stream",
     "text": [
      "False\n"
     ]
    }
   ],
   "source": [
    "print(\"\"\"\n",
    "  A \n",
    "  B \n",
    "  C \n",
    " \"\"\" == \"\\nA\\nB\\nC\\n\")\n"
   ]
  },
  {
   "cell_type": "code",
   "execution_count": 30,
   "metadata": {},
   "outputs": [
    {
     "name": "stdout",
     "output_type": "stream",
     "text": [
      "12\n"
     ]
    }
   ],
   "source": [
    "def func(val1=3, val2=4, val3=6):\n",
    "    return val1 + val2 + val3\n",
    "values = {\"val1\":9, \"val3\":-1} \n",
    "print(func(**values))\n"
   ]
  },
  {
   "cell_type": "code",
   "execution_count": null,
   "metadata": {},
   "outputs": [
    {
     "name": "stdout",
     "output_type": "stream",
     "text": [
      "Answer\n"
     ]
    }
   ],
   "source": [
    "print(\"Answer\")\n",
    "while True: pass \n",
    "print(\"42\")\n"
   ]
  },
  {
   "cell_type": "code",
   "execution_count": 3,
   "metadata": {},
   "outputs": [
    {
     "name": "stdout",
     "output_type": "stream",
     "text": [
      "enter no11\n",
      "in range\n"
     ]
    }
   ],
   "source": [
    "a=int(input(\"enter no\"))\n",
    "if a>10 and a<20:\n",
    "    print(\"in range\")\n",
    "else:\n",
    "    print(\"out range\")"
   ]
  },
  {
   "cell_type": "code",
   "execution_count": 5,
   "metadata": {},
   "outputs": [
    {
     "name": "stdout",
     "output_type": "stream",
     "text": [
      "enter no30\n",
      "in range\n"
     ]
    }
   ],
   "source": [
    "a=int(input(\"enter no\"))\n",
    "if a>10 or a<20:\n",
    "    print(\"in range\")\n",
    "else:\n",
    "    print(\"out range\")"
   ]
  },
  {
   "cell_type": "code",
   "execution_count": 6,
   "metadata": {},
   "outputs": [
    {
     "name": "stdout",
     "output_type": "stream",
     "text": [
      "enter first no20\n",
      "enter second no10\n",
      "10\n",
      "20\n"
     ]
    }
   ],
   "source": [
    "a=int(input(\"enter first no\"))\n",
    "b=int(input(\"enter second no\"))\n",
    "if a>b:\n",
    "    print(b)\n",
    "    print(a)\n",
    "else:\n",
    "    print(a,b)\n",
    "    "
   ]
  },
  {
   "cell_type": "code",
   "execution_count": 8,
   "metadata": {},
   "outputs": [
    {
     "name": "stdout",
     "output_type": "stream",
     "text": [
      "enter  no10\n",
      "thank you\n"
     ]
    }
   ],
   "source": [
    "a=int(input(\"enter  no\"))\n",
    "if a>=20:\n",
    "    print(\"too high\")\n",
    "else:\n",
    "    print(\"thank you\")"
   ]
  },
  {
   "cell_type": "code",
   "execution_count": 4,
   "metadata": {},
   "outputs": [
    {
     "name": "stdout",
     "output_type": "stream",
     "text": [
      "enter  no4\n",
      "error\n"
     ]
    }
   ],
   "source": [
    "a=int(input(\"enter  no\"))\n",
    "if a>10 and a<20:\n",
    "    print(\"thank you\")\n",
    "else:\n",
    "    print(\"error\")"
   ]
  },
  {
   "cell_type": "code",
   "execution_count": 3,
   "metadata": {},
   "outputs": [
    {
     "name": "stdout",
     "output_type": "stream",
     "text": [
      "rone  john\n"
     ]
    }
   ],
   "source": [
    "print(\"rone\",\"\",\"john\")"
   ]
  },
  {
   "cell_type": "code",
   "execution_count": null,
   "metadata": {},
   "outputs": [],
   "source": [
    "name=input(\"enter name\")\n",
    "i=1\n",
    "while i<4:\n",
    "  \n",
    "   print(name)\n",
    "   i+=1\n",
    "print(\"done\")    "
   ]
  },
  {
   "cell_type": "code",
   "execution_count": 4,
   "metadata": {},
   "outputs": [
    {
     "name": "stdout",
     "output_type": "stream",
     "text": [
      "enter no4\n",
      "4\n",
      "enter no5\n",
      "5\n"
     ]
    }
   ],
   "source": [
    "i=0\n",
    "while i<5:\n",
    "    i=int(input(\"enter no\"))\n",
    "    \n",
    "    print(i)"
   ]
  },
  {
   "cell_type": "code",
   "execution_count": 1,
   "metadata": {},
   "outputs": [
    {
     "name": "stdout",
     "output_type": "stream",
     "text": [
      "1\n",
      "2\n",
      "3\n",
      "4\n"
     ]
    }
   ],
   "source": [
    "i=1\n",
    "while i<5:\n",
    "    print(i)\n",
    "    i+=1"
   ]
  },
  {
   "cell_type": "code",
   "execution_count": 3,
   "metadata": {},
   "outputs": [
    {
     "name": "stdout",
     "output_type": "stream",
     "text": [
      "enter nameron\n",
      "ron\n",
      "ron\n",
      "ron\n"
     ]
    }
   ],
   "source": [
    "n=input(\"enter name\")\n",
    "for i in range(1,4):\n",
    "    print(n)"
   ]
  },
  {
   "cell_type": "code",
   "execution_count": 6,
   "metadata": {},
   "outputs": [
    {
     "name": "stdout",
     "output_type": "stream",
     "text": [
      "enter nameron\n",
      "enter no3\n",
      "ron\n",
      "ron\n",
      "ron\n"
     ]
    }
   ],
   "source": [
    "n=input(\"enter name\")\n",
    "x=int(input(\"enter no\"))\n",
    "for i in range(1,x+1):\n",
    "    print(n)"
   ]
  },
  {
   "cell_type": "code",
   "execution_count": 11,
   "metadata": {},
   "outputs": [
    {
     "name": "stdout",
     "output_type": "stream",
     "text": [
      "enter nameron\n",
      "enter no3\n",
      "r\n",
      "o\n",
      "n\n",
      "r\n",
      "o\n",
      "n\n",
      "r\n",
      "o\n",
      "n\n"
     ]
    }
   ],
   "source": [
    "# to print words in a name x times\n",
    "\n",
    "n=input(\"enter name\")\n",
    "x=int(input(\"enter no\"))\n",
    "for i in range(0,x):\n",
    "    for word in n:\n",
    "        print(word)"
   ]
  },
  {
   "cell_type": "code",
   "execution_count": 10,
   "metadata": {},
   "outputs": [
    {
     "name": "stdout",
     "output_type": "stream",
     "text": [
      "enter no2\n",
      "1 x 2 = 2\n",
      "2 x 2 = 4\n",
      "3 x 2 = 6\n",
      "4 x 2 = 8\n",
      "5 x 2 = 10\n",
      "6 x 2 = 12\n",
      "7 x 2 = 14\n",
      "8 x 2 = 16\n",
      "9 x 2 = 18\n",
      "10 x 2 = 20\n"
     ]
    }
   ],
   "source": [
    "#multiplication table\n",
    "n=int(input(\"enter no\"))\n",
    "for i in range(1,11):\n",
    "    x=i*n\n",
    "    print(i,\"x\",n,\"=\",x)\n"
   ]
  },
  {
   "cell_type": "code",
   "execution_count": 5,
   "metadata": {},
   "outputs": [
    {
     "name": "stdout",
     "output_type": "stream",
     "text": [
      "enter no3\n",
      "do u want to includen\n",
      "0\n",
      "done\n"
     ]
    }
   ],
   "source": [
    "tot=0\n",
    "for i in range(0,2):\n",
    "    n=int(input(\"enter no\"))\n",
    "    x=input(\"do u want to include\")\n",
    "    if x==\"yes\":\n",
    "        tot=tot+n\n",
    "        print(tot)\n",
    "    else:\n",
    "        tot=0\n",
    "        print(tot)\n",
    "        break\n",
    "print(\"done\")\n",
    "        \n",
    "\n"
   ]
  },
  {
   "cell_type": "code",
   "execution_count": null,
   "metadata": {},
   "outputs": [],
   "source": []
  }
 ],
 "metadata": {
  "kernelspec": {
   "display_name": "Python 3",
   "language": "python",
   "name": "python3"
  },
  "language_info": {
   "codemirror_mode": {
    "name": "ipython",
    "version": 3
   },
   "file_extension": ".py",
   "mimetype": "text/x-python",
   "name": "python",
   "nbconvert_exporter": "python",
   "pygments_lexer": "ipython3",
   "version": "3.7.4"
  }
 },
 "nbformat": 4,
 "nbformat_minor": 2
}

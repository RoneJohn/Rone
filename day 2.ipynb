{
 "cells": [
  {
   "cell_type": "code",
   "execution_count": 1,
   "metadata": {},
   "outputs": [
    {
     "data": {
      "text/plain": [
       "int"
      ]
     },
     "execution_count": 1,
     "metadata": {},
     "output_type": "execute_result"
    }
   ],
   "source": [
    "a = 1\n",
    "\n",
    "type(a)\n",
    "\n"
   ]
  },
  {
   "cell_type": "code",
   "execution_count": 3,
   "metadata": {},
   "outputs": [
    {
     "data": {
      "text/plain": [
       "str"
      ]
     },
     "execution_count": 3,
     "metadata": {},
     "output_type": "execute_result"
    }
   ],
   "source": [
    "c = \"hello\"\n",
    "\n",
    "type(c)\n"
   ]
  },
  {
   "cell_type": "code",
   "execution_count": null,
   "metadata": {},
   "outputs": [],
   "source": [
    "# ## break, continue and pass\n",
    "for i in range(0,10):\n",
    "   # print(i)\n",
    "    if i == 3:\n",
    "        break\n",
    "    print(i)\n"
   ]
  },
  {
   "cell_type": "code",
   "execution_count": 9,
   "metadata": {},
   "outputs": [
    {
     "name": "stdout",
     "output_type": "stream",
     "text": [
      "0\n",
      "1\n",
      "3\n",
      "4\n",
      "5\n",
      "6\n",
      "7\n",
      "8\n",
      "9\n"
     ]
    }
   ],
   "source": [
    "for i in range(0,10):\n",
    "   # print(i)\n",
    "    if i == 2:\n",
    "        continue\n",
    "    print(i)\n"
   ]
  },
  {
   "cell_type": "code",
   "execution_count": null,
   "metadata": {},
   "outputs": [],
   "source": [
    "for i in range(0,5):\n",
    "    print(\"before\", i)\n",
    "    if i == 3:\n",
    "        pass\n",
    "\n"
   ]
  },
  {
   "cell_type": "code",
   "execution_count": 13,
   "metadata": {},
   "outputs": [
    {
     "name": "stdout",
     "output_type": "stream",
     "text": [
      "o, l, l, e, h, "
     ]
    }
   ],
   "source": [
    "#Reverse strings using queue.**<br>\n",
    "\n",
    "from queue import Queue  \n",
    "  \n",
    "# Utility function to print the queue  \n",
    "def Print(queue): \n",
    "    while (not queue.empty()): \n",
    "        print(queue.queue[0], end = \", \")  \n",
    "        queue.get() \n",
    "  \n",
    "# Function to reverse the queue  \n",
    "def reversequeue(queue): \n",
    "    Stack = []  \n",
    "    while (not queue.empty()):  \n",
    "        Stack.append(queue.queue[0])  \n",
    "        queue.get() \n",
    "    while (len(Stack) != 0):  \n",
    "        queue.put(Stack[-1])  \n",
    "        Stack.pop() \n",
    "  \n",
    "# Driver code  \n",
    "if __name__ == '__main__': \n",
    "    queue = Queue() \n",
    "    queue.put(\"h\")  \n",
    "    queue.put(\"e\")  \n",
    "    queue.put(\"l\")  \n",
    "    queue.put(\"l\")  \n",
    "    queue.put(\"o\")\n",
    "    \n",
    "    reversequeue(queue)  \n",
    "    Print(queue) "
   ]
  },
  {
   "cell_type": "code",
   "execution_count": 22,
   "metadata": {},
   "outputs": [
    {
     "name": "stdout",
     "output_type": "stream",
     "text": [
      "The first list is : {1, 2, 3, 4, 5}\n",
      "The second list is : {1, 2, 3, 4, 5, 6}\n",
      "The lists are not identical\n"
     ]
    }
   ],
   "source": [
    "# compare two lists using set theory.<br>\n",
    "\n",
    "# initializing lists  \n",
    "list1 = set([1, 2, 4, 3, 5]) \n",
    "list2 = set([1, 2, 4, 3, 5,6]) \n",
    "  \n",
    "print (\"The first list is : \" + str(list1)) \n",
    "print (\"The second list is : \" + str(list2)) \n",
    "  \n",
    "# sorting both the lists \n",
    "#x=list1.sort() \n",
    "#y=list2.sort() \n",
    "  \n",
    "if list1 ==list2: \n",
    "    print (\"The lists are identical\") \n",
    "else : \n",
    "   print (\"The lists are not identical\") "
   ]
  },
  {
   "cell_type": "code",
   "execution_count": 34,
   "metadata": {},
   "outputs": [
    {
     "name": "stdout",
     "output_type": "stream",
     "text": [
      "1\n",
      "1\n",
      "1\n",
      "4\n",
      "final list is [1, 2, 3, 4, 7, 5, 9]\n",
      "there are 4 duplicate elements\n"
     ]
    }
   ],
   "source": [
    "#Find the duplicates elements in the lists\n",
    "\n",
    "list1 = [1,2,1,3,1,4,1,4,7,5,9]\n",
    "u = []\n",
    "count=0\n",
    "for ele in list1:\n",
    "    if ele not in u:\n",
    "        u.append(ele)\n",
    "    else:\n",
    "        count=count+1\n",
    "        print(ele)\n",
    "print(\"final list is\",u)\n",
    "\n",
    "print(\"there are\" ,count, \"duplicate elements\")"
   ]
  },
  {
   "cell_type": "code",
   "execution_count": 46,
   "metadata": {},
   "outputs": [
    {
     "name": "stdout",
     "output_type": "stream",
     "text": [
      "Enter the size of the First List ::3\n",
      "Enter the size of the second List ::3\n",
      "Enter the Element of first List ::\n",
      "2\n",
      "3\n",
      "4\n",
      "Enter the Element of second List ::\n",
      "1\n",
      "2\n",
      "3\n",
      "Missing values in first list:[1]\n",
      "Missing values in second list:[4]\n"
     ]
    }
   ],
   "source": [
    "#Print all missing elements in the lists<br>\n",
    "\n",
    "A=list()\n",
    "B=list()\n",
    "n1=int(input(\"Enter the size of the First List ::\"))\n",
    "n2=int(input(\"Enter the size of the second List ::\"))\n",
    "print(\"Enter the Element of first List ::\")\n",
    "for i in range(int(n1)):\n",
    "   k=int(input(\"\"))\n",
    "   A.append(k)\n",
    "print(\"Enter the Element of second List ::\")\n",
    "for j in range(int(n2)):\n",
    "   k1=int(input(\"\"))\n",
    "   B.append(k1)\n",
    "x= list(set(B).difference(A))   \n",
    "y=list(set(A).difference(B))\n",
    "    \n",
    "#x=print(\"Missing values in first list:\",(set(B).difference(A)))\n",
    "#y=print(\"Missing values in second list:\",(set(A).difference(B)))\n",
    "\n",
    "print(\"Missing values in first list:\"+str(x))\n",
    "print(\"Missing values in second list:\"+str(y))"
   ]
  },
  {
   "cell_type": "code",
   "execution_count": 47,
   "metadata": {},
   "outputs": [
    {
     "name": "stdout",
     "output_type": "stream",
     "text": [
      "The original list : [3, 5, 6, 8, 10]\n",
      "The list of missing elements : [0, 1, 2, 4, 7, 9]\n"
     ]
    }
   ],
   "source": [
    "test_list = [3, 5, 6, 8, 10] \n",
    "  \n",
    "print(\"The original list : \" + str(test_list)) \n",
    "  \n",
    "\n",
    "res = list(set(range(max(test_list) + 1)) - set(test_list)) \n",
    "  \n",
    "print(\"The list of missing elements : \" + str(res))"
   ]
  },
  {
   "cell_type": "code",
   "execution_count": 11,
   "metadata": {},
   "outputs": [
    {
     "name": "stdout",
     "output_type": "stream",
     "text": [
      "true\n"
     ]
    }
   ],
   "source": [
    "#You need to check the start or end of a string for specific text patterns, such as filename extensions, URL schemes, and so on.\n",
    "\n",
    "str = 'http://www.python.org'\n",
    "\n",
    "if str.startswith(\"http://\")and str.endswith(\"org\"):\n",
    "\n",
    "        print(\"true\")\n",
    "else:\n",
    "        print(\"false\")\n"
   ]
  },
  {
   "cell_type": "code",
   "execution_count": 4,
   "metadata": {},
   "outputs": [
    {
     "name": "stdout",
     "output_type": "stream",
     "text": [
      "Substring 'bangalore' found at index: 17\n",
      "hello welcome to chennai\n"
     ]
    }
   ],
   "source": [
    "#You want to search for and replace a text pattern in a string.\n",
    "\n",
    "str=\"hello welcome to bangalore\"\n",
    "r=str.find(\"bangalore\")\n",
    "print (\"Substring 'bangalore' found at index:\", r ) \n",
    "print(str.replace(\"bangalore\",\"chennai\"))\n"
   ]
  },
  {
   "cell_type": "code",
   "execution_count": 18,
   "metadata": {},
   "outputs": [
    {
     "name": "stdout",
     "output_type": "stream",
     "text": [
      "Substring 'yeah' found at index: 0\n",
      "{'yeah,': 2, 'but': 4, 'no,': 2, 'yeah': 1}\n",
      "yes, but no, but yeah, but no, but yeah\n"
     ]
    }
   ],
   "source": [
    "#You want to match or search text for a specific pattern.\n",
    "\n",
    "text = 'yeah, but no, but yeah, but no, but yeah'\n",
    "s=text.find(\"yeah\")\n",
    "print (\"Substring 'yeah' found at index:\", s) \n",
    "#print(count(s, beg= 0, end=len(s)))\n",
    "counts=dict()\n",
    "words = text.split()\n",
    "\n",
    "for word in words:\n",
    "        if word in counts:\n",
    "            counts[word] += 1\n",
    "        else:\n",
    "            counts[word] = 1\n",
    "\n",
    "print(counts)\n",
    "    \n",
    "\n",
    "print(text.replace('yeah', \"yes\", 1))"
   ]
  },
  {
   "cell_type": "code",
   "execution_count": 96,
   "metadata": {},
   "outputs": [
    {
     "name": "stdout",
     "output_type": "stream",
     "text": [
      "'upper python, LOWER PYTHON, mIXED pYTHON'\n"
     ]
    }
   ],
   "source": [
    "#You need to search for and possibly replace text in a case-insensitive manner.\n",
    "\n",
    "\n",
    "def convertOpposite(str): \n",
    "    ln = len(str) \n",
    "  \n",
    "    # Conversion according to ASCII values \n",
    "    for i in range(ln): \n",
    "        if str[i] >= 'a' and str[i] <= 'z': \n",
    "  \n",
    "            # Convert lowercase to uppercase \n",
    "            str[i] = chr(ord(str[i]) - 32) \n",
    "  \n",
    "        elif str[i] >= 'A' and str[i] <= 'Z': \n",
    "  \n",
    "            # Convert lowercase to uppercase \n",
    "            str[i] = chr(ord(str[i]) + 32) \n",
    "  \n",
    "# Driver code \n",
    "if __name__ == \"__main__\": \n",
    "    str = \"'UPPER PYTHON, lower python, Mixed Python'\"\n",
    "    str = list(str) \n",
    "  \n",
    "    # Calling the Function \n",
    "    convertOpposite(str) \n",
    "  \n",
    "    str = ''.join(str) \n",
    "    print(str) "
   ]
  },
  {
   "cell_type": "code",
   "execution_count": 99,
   "metadata": {},
   "outputs": [
    {
     "name": "stdout",
     "output_type": "stream",
     "text": [
      "hello  world \n",
      "helloworld\n"
     ]
    }
   ],
   "source": [
    "#You want to strip unwanted characters, such as whitespace, from the beginning, end, or middle of a text string.\n",
    "\n",
    "a=\" hello  world \"\n",
    "print(a.lstrip())\n",
    "print(a.replace(\" \",\"\"))"
   ]
  },
  {
   "cell_type": "code",
   "execution_count": 2,
   "metadata": {},
   "outputs": [
    {
     "name": "stdout",
     "output_type": "stream",
     "text": [
      "#################hello##################\n",
      "hello-----------------------------------\n",
      "---------------------------------------------hello\n",
      "                 hello                  \n"
     ]
    }
   ],
   "source": [
    "#You need to format text with some sort of alignment applied\n",
    "\n",
    "a= \"hello\"\n",
    "print (a.center(40, '#')) \n",
    "print (a.ljust(40, '-'))\n",
    "print (a.rjust(50, '-'))\n",
    "print (a.center(40, \" \"))\n"
   ]
  },
  {
   "cell_type": "code",
   "execution_count": 136,
   "metadata": {},
   "outputs": [
    {
     "name": "stdout",
     "output_type": "stream",
     "text": [
      "nameTESTcountry\n"
     ]
    }
   ],
   "source": [
    "#You want to combine many small strings together into a larger string.\n",
    "\n",
    "a = {\"name\": \"John\", \"country\": \"Norway\"}\n",
    "res = \"TEST\"\n",
    "\n",
    "x = res.join(a)\n",
    "\n",
    "print(x)\n"
   ]
  },
  {
   "cell_type": "code",
   "execution_count": 5,
   "metadata": {},
   "outputs": [
    {
     "name": "stdout",
     "output_type": "stream",
     "text": [
      "enter no5.67\n",
      "6\n"
     ]
    }
   ],
   "source": [
    "# You want to round a floating-point number to a fixed number of decimal places;\n",
    "\n",
    "a=float(input(\"enter no\"))\n",
    "\n",
    "print(round(a))"
   ]
  },
  {
   "cell_type": "code",
   "execution_count": 6,
   "metadata": {},
   "outputs": [
    {
     "name": "stdout",
     "output_type": "stream",
     "text": [
      "6.300000000000001\n"
     ]
    }
   ],
   "source": [
    "#You need to perform accurate calculations with decimal numbers, and don’t want the small errors that naturally \n",
    "#occur with floats;\n",
    "a=4.2\n",
    "b=2.1\n",
    "c=a+b\n",
    "print(c)"
   ]
  },
  {
   "cell_type": "code",
   "execution_count": 8,
   "metadata": {},
   "outputs": [
    {
     "name": "stdout",
     "output_type": "stream",
     "text": [
      "6.300000000000001\n",
      "6.3\n"
     ]
    },
    {
     "data": {
      "text/plain": [
       "True"
      ]
     },
     "execution_count": 8,
     "metadata": {},
     "output_type": "execute_result"
    }
   ],
   "source": [
    "a=4.2\n",
    "b=2.1\n",
    "c=a+b\n",
    "print(c)\n",
    "print(round((a+b),1))\n",
    "round((a+b),1)==6.3"
   ]
  },
  {
   "cell_type": "code",
   "execution_count": 12,
   "metadata": {},
   "outputs": [
    {
     "name": "stdout",
     "output_type": "stream",
     "text": [
      "Input time in seconds: 123456\n",
      "d:h:m:s-> 1:10:17:36\n"
     ]
    }
   ],
   "source": [
    "#code that needs to perform simple time conversions, like days to seconds, hours to minutes, and so on.\n",
    "\n",
    "time = float(input(\"Input time in seconds: \"))\n",
    "day = time // (24 * 3600)\n",
    "time = time % (24 * 3600)\n",
    "hour = time // 3600\n",
    "time %= 3600\n",
    "minutes = time // 60\n",
    "time %= 60\n",
    "seconds = time\n",
    "print(\"d:h:m:s-> %d:%d:%d:%d\" % (day, hour, minutes, seconds))\n",
    "\n"
   ]
  },
  {
   "cell_type": "code",
   "execution_count": 8,
   "metadata": {},
   "outputs": [
    {
     "name": "stdout",
     "output_type": "stream",
     "text": [
      "['asdf', 'fjdk;', 'afed,', 'fjek,asdf,', 'foo']\n"
     ]
    }
   ],
   "source": [
    "#You need to split a string into fields, but the delimiters (and spacing around them) aren’t consistent throughout the string.\n",
    "\n",
    "line = 'asdf fjdk; afed, fjek,asdf,      foo'\n",
    "s=print(line.split())\n",
    "\n"
   ]
  },
  {
   "cell_type": "code",
   "execution_count": 61,
   "metadata": {},
   "outputs": [
    {
     "name": "stdout",
     "output_type": "stream",
     "text": [
      "true\n",
      "true\n",
      "true\n",
      "true\n",
      "true\n",
      "true\n",
      "true\n",
      "true\n",
      "true\n",
      "false\n",
      "true\n"
     ]
    }
   ],
   "source": [
    "#You’re working with Unicode strings, but need to make sure that all of the strings have the same underlying representation.\n",
    "\n",
    "s1 = \"Spicy Jal\\u00f1o\"\n",
    "s2 =  \"Spicy Jalapen\\u003fo\"\n",
    "\n",
    "p=len(s1)\n",
    "q=len(s2)\n",
    "\n",
    "\n",
    "for place in s1:\n",
    "    \n",
    "    if place in s2:\n",
    "\n",
    "        print(\"true\")\n",
    "    else:\n",
    "        print(\"false\")\n",
    "            \n",
    "  "
   ]
  },
  {
   "cell_type": "code",
   "execution_count": null,
   "metadata": {},
   "outputs": [],
   "source": []
  }
 ],
 "metadata": {
  "kernelspec": {
   "display_name": "Python 3",
   "language": "python",
   "name": "python3"
  },
  "language_info": {
   "codemirror_mode": {
    "name": "ipython",
    "version": 3
   },
   "file_extension": ".py",
   "mimetype": "text/x-python",
   "name": "python",
   "nbconvert_exporter": "python",
   "pygments_lexer": "ipython3",
   "version": "3.7.4"
  }
 },
 "nbformat": 4,
 "nbformat_minor": 2
}

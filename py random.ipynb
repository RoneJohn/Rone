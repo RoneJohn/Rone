{
 "cells": [
  {
   "cell_type": "code",
   "execution_count": 1,
   "metadata": {},
   "outputs": [
    {
     "name": "stdout",
     "output_type": "stream",
     "text": [
      "73.21211995936767\n"
     ]
    }
   ],
   "source": [
    "import random\n",
    "num=random.random()\n",
    "num=num*100\n",
    "print(num)"
   ]
  },
  {
   "cell_type": "code",
   "execution_count": 2,
   "metadata": {},
   "outputs": [
    {
     "name": "stdout",
     "output_type": "stream",
     "text": [
      "8\n"
     ]
    }
   ],
   "source": [
    "import random\n",
    "num=random.randint(0,9)\n",
    "print(num)\n"
   ]
  },
  {
   "cell_type": "code",
   "execution_count": 4,
   "metadata": {},
   "outputs": [
    {
     "name": "stdout",
     "output_type": "stream",
     "text": [
      "6\n"
     ]
    }
   ],
   "source": [
    "import random\n",
    "num=random.randrange(0,9,2)\n",
    "print(num)"
   ]
  },
  {
   "cell_type": "code",
   "execution_count": 12,
   "metadata": {},
   "outputs": [
    {
     "name": "stdout",
     "output_type": "stream",
     "text": [
      "green\n"
     ]
    }
   ],
   "source": [
    "import random\n",
    "num=random.choice([\"red\",\"black\",\"green\"])\n",
    "print(num)"
   ]
  },
  {
   "cell_type": "code",
   "execution_count": 21,
   "metadata": {},
   "outputs": [
    {
     "name": "stdout",
     "output_type": "stream",
     "text": [
      "t\n",
      "enter choiceh\n",
      "bad luck\n",
      "user selected is h\n"
     ]
    }
   ],
   "source": [
    "import random\n",
    "num=random.choice([\"h\",\"t\"])\n",
    "print(num)\n",
    "ch=input(\"enter choice\")\n",
    "if ch==num:\n",
    "    print(\"you won\")\n",
    "else:\n",
    "    print(\"bad luck\")\n",
    "print(\"user selected is\",ch)\n",
    "\n",
    "    \n",
    "    \n",
    "\n"
   ]
  },
  {
   "cell_type": "code",
   "execution_count": 47,
   "metadata": {
    "scrolled": true
   },
   "outputs": [
    {
     "name": "stdout",
     "output_type": "stream",
     "text": [
      "2\n",
      "enter number3\n",
      "too high\n",
      "enter guess2\n",
      "you won\n"
     ]
    }
   ],
   "source": [
    "import random\n",
    "num=random.randint(1,5)\n",
    "print(num)\n",
    "ch=int(input(\"enter number\"))\n",
    "if ch==num:\n",
    "    print(\"you won\")\n",
    "    \n",
    "elif ch<num:\n",
    "    print(\"too low\")\n",
    "elif ch>num:\n",
    "    print(\"too high\")\n",
    "ch=int(input(\"enter guess\"))\n",
    "if ch==num:\n",
    "        print(\"you won\")\n",
    "else:\n",
    "    print(\"you lose\")\n"
   ]
  },
  {
   "cell_type": "code",
   "execution_count": 48,
   "metadata": {},
   "outputs": [
    {
     "name": "stdout",
     "output_type": "stream",
     "text": [
      "grapes\n"
     ]
    }
   ],
   "source": [
    "import random\n",
    "num=random.choice([\"apple\",\"orange\",\"grapes\"])\n",
    "print(num)"
   ]
  },
  {
   "cell_type": "code",
   "execution_count": 3,
   "metadata": {},
   "outputs": [
    {
     "name": "stdout",
     "output_type": "stream",
     "text": [
      "57\n",
      "90\n",
      "enter no4\n"
     ]
    }
   ],
   "source": [
    "import random\n",
    "score=0\n",
    "for i in range(1,3):\n",
    "    num1=random.randint(1,50)\n",
    "    num2=random.randint(1,50)\n",
    "    ch=num1+num2\n",
    "    print(ch)\n",
    "answer=int(input(\"enter no\"))\n",
    "if answer==ch:\n",
    "    score=score+1\n",
    "    print(score)\n",
    "   "
   ]
  },
  {
   "cell_type": "code",
   "execution_count": null,
   "metadata": {},
   "outputs": [],
   "source": []
  }
 ],
 "metadata": {
  "kernelspec": {
   "display_name": "Python 3",
   "language": "python",
   "name": "python3"
  },
  "language_info": {
   "codemirror_mode": {
    "name": "ipython",
    "version": 3
   },
   "file_extension": ".py",
   "mimetype": "text/x-python",
   "name": "python",
   "nbconvert_exporter": "python",
   "pygments_lexer": "ipython3",
   "version": "3.7.4"
  }
 },
 "nbformat": 4,
 "nbformat_minor": 2
}

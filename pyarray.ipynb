{
 "cells": [
  {
   "cell_type": "code",
   "execution_count": 1,
   "metadata": {},
   "outputs": [
    {
     "name": "stdout",
     "output_type": "stream",
     "text": [
      "array('i', [32, 15, 45, 67, 23])\n"
     ]
    }
   ],
   "source": [
    "from array import*\n",
    "nums=array('i',[32,15,45,67,23])\n",
    "print(nums)\n"
   ]
  },
  {
   "cell_type": "code",
   "execution_count": 3,
   "metadata": {},
   "outputs": [
    {
     "name": "stdout",
     "output_type": "stream",
     "text": [
      "32\n",
      "15\n",
      "45\n",
      "67\n",
      "23\n"
     ]
    }
   ],
   "source": [
    "from array import*\n",
    "nums=array('i',[32,15,45,67,23])\n",
    "for x in nums:\n",
    "  print(x)"
   ]
  },
  {
   "cell_type": "code",
   "execution_count": 4,
   "metadata": {},
   "outputs": [
    {
     "name": "stdout",
     "output_type": "stream",
     "text": [
      "enter no7\n",
      "array('i', [32, 15, 45, 67, 23, 7])\n"
     ]
    }
   ],
   "source": [
    "from array import*\n",
    "nums=array('i',[32,15,45,67,23])\n",
    "value=int(input(\"enter no\"))\n",
    "nums.append(value)\n",
    "print(nums)"
   ]
  },
  {
   "cell_type": "code",
   "execution_count": 5,
   "metadata": {},
   "outputs": [
    {
     "name": "stdout",
     "output_type": "stream",
     "text": [
      "enter no7\n",
      "array('i', [23, 67, 45, 15, 32])\n"
     ]
    }
   ],
   "source": [
    "from array import*\n",
    "nums=array('i',[32,15,45,67,23])\n",
    "value=int(input(\"enter no\"))\n",
    "nums.reverse()\n",
    "print(nums)"
   ]
  },
  {
   "cell_type": "code",
   "execution_count": 6,
   "metadata": {},
   "outputs": [
    {
     "name": "stdout",
     "output_type": "stream",
     "text": [
      "[15, 23, 32, 45, 67]\n"
     ]
    }
   ],
   "source": [
    "from array import*\n",
    "nums=array('i',[32,15,45,67,23])\n",
    "nums=sorted(nums)\n",
    "print(nums)"
   ]
  },
  {
   "cell_type": "code",
   "execution_count": 7,
   "metadata": {},
   "outputs": [
    {
     "name": "stdout",
     "output_type": "stream",
     "text": [
      "[15, 23, 32, 45]\n"
     ]
    }
   ],
   "source": [
    "from array import*\n",
    "nums=array('i',[32,15,45,67,23])\n",
    "nums=sorted(nums)\n",
    "nums.pop()\n",
    "print(nums)"
   ]
  },
  {
   "cell_type": "code",
   "execution_count": 9,
   "metadata": {},
   "outputs": [
    {
     "name": "stdout",
     "output_type": "stream",
     "text": [
      "how many items   4\n",
      "enter no2\n",
      "enter no6\n",
      "enter no7\n",
      "enter no8\n",
      "array('i', [2, 6, 7, 8])\n"
     ]
    }
   ],
   "source": [
    "newarray=array('i',[])\n",
    "a=int(input(\"how many items   \"))\n",
    "for y in range(0,a):\n",
    "    x=int(input(\"enter no\"))\n",
    "    newarray.append(x)\n",
    "    nums.extend(newarray)\n",
    "print(newarray)\n",
    "    "
   ]
  },
  {
   "cell_type": "code",
   "execution_count": 11,
   "metadata": {},
   "outputs": [
    {
     "name": "stdout",
     "output_type": "stream",
     "text": [
      "enter index15\n",
      "array('i', [32, 45, 67, 23])\n"
     ]
    }
   ],
   "source": [
    "from array import*\n",
    "nums=array('i',[32,15,45,67,23])\n",
    "x=int(input(\"enter number\"))\n",
    "nums.remove(x)\n",
    "print(nums)"
   ]
  },
  {
   "cell_type": "code",
   "execution_count": 12,
   "metadata": {},
   "outputs": [
    {
     "name": "stdout",
     "output_type": "stream",
     "text": [
      "1\n"
     ]
    }
   ],
   "source": [
    "from array import*\n",
    "nums=array('i',[32,15,45,67,23])\n",
    "print(nums.count(45))"
   ]
  },
  {
   "cell_type": "code",
   "execution_count": 18,
   "metadata": {},
   "outputs": [
    {
     "name": "stdout",
     "output_type": "stream",
     "text": [
      "how many items   3\n",
      "enter number12\n",
      "thank you\n",
      "enter number34\n",
      "out of range\n",
      "enter number10\n",
      "out of range\n",
      "array('i', [12])\n"
     ]
    }
   ],
   "source": [
    "newarray=array('i',[])\n",
    "a=int(input(\"how many items   \"))\n",
    "for y in range(0,a):\n",
    "    x=int(input(\"enter number\"))\n",
    "    if x>10 and x<20:\n",
    "        print(\"thank you\")\n",
    "        newarray.append(x)\n",
    "    else:\n",
    "            print(\"out of range\")\n",
    "print(newarray)\n",
    "        \n",
    "    "
   ]
  },
  {
   "cell_type": "code",
   "execution_count": 22,
   "metadata": {},
   "outputs": [
    {
     "name": "stdout",
     "output_type": "stream",
     "text": [
      "how many items   4\n",
      "enter no12\n",
      "enter no12\n",
      "enter no34\n",
      "enter no56\n",
      "enter no to search12\n",
      "2\n",
      "array('i', [12, 12, 34, 56])\n"
     ]
    }
   ],
   "source": [
    "newarray=array('i',[])\n",
    "a=int(input(\"how many items   \"))\n",
    "for y in range(0,a):\n",
    "    x=int(input(\"enter no\"))\n",
    "    newarray.append(x)\n",
    "    nums.extend(newarray)\n",
    "num=int(input(\"enter no to search\"))\n",
    "print(newarray.count(num))\n",
    "print(newarray)"
   ]
  },
  {
   "cell_type": "code",
   "execution_count": 7,
   "metadata": {},
   "outputs": [
    {
     "name": "stdout",
     "output_type": "stream",
     "text": [
      "15\n",
      "15\n",
      "23\n",
      "23\n",
      "32\n",
      "32\n",
      "43\n",
      "45\n",
      "67\n",
      "67\n",
      "87\n"
     ]
    }
   ],
   "source": [
    "from array import*\n",
    "nums=array('i',[32,15,45,67,23])\n",
    "new=array('i',[32,15,67,43,23,87])\n",
    "nums.extend(new)\n",
    "nums=sorted(nums)\n",
    "for i in nums:\n",
    "    print(i)"
   ]
  },
  {
   "cell_type": "code",
   "execution_count": 11,
   "metadata": {},
   "outputs": [
    {
     "name": "stdout",
     "output_type": "stream",
     "text": [
      "enter number15\n",
      "1\n"
     ]
    }
   ],
   "source": [
    "#to get position\n",
    "from array import*\n",
    "nums=array('i',[32,15,45,67,23])\n",
    "x=int(input(\"enter number\"))\n",
    "if x in nums:\n",
    "    print(nums.index(x))\n",
    "else:\n",
    "    print(\"not found\")"
   ]
  },
  {
   "cell_type": "code",
   "execution_count": null,
   "metadata": {},
   "outputs": [],
   "source": []
  }
 ],
 "metadata": {
  "kernelspec": {
   "display_name": "Python 3",
   "language": "python",
   "name": "python3"
  },
  "language_info": {
   "codemirror_mode": {
    "name": "ipython",
    "version": 3
   },
   "file_extension": ".py",
   "mimetype": "text/x-python",
   "name": "python",
   "nbconvert_exporter": "python",
   "pygments_lexer": "ipython3",
   "version": "3.7.4"
  }
 },
 "nbformat": 4,
 "nbformat_minor": 2
}

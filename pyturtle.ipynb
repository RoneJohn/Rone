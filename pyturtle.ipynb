{
 "cells": [
  {
   "cell_type": "code",
   "execution_count": 6,
   "metadata": {},
   "outputs": [],
   "source": [
    "#pentagon\n",
    "import turtle\n",
    "turtle.shape(\"turtle\")\n",
    "for i in range(0,5):\n",
    "    turtle.forward(100)\n",
    "    turtle.right(72)\n",
    "turtle.exitonclick()"
   ]
  },
  {
   "cell_type": "code",
   "execution_count": 8,
   "metadata": {},
   "outputs": [],
   "source": [
    "#square\n",
    "\n",
    "import turtle\n",
    "turtle.shape(\"turtle\")\n",
    "for i in range(0,4):\n",
    "    turtle.forward(100)\n",
    "    turtle.right(90)\n",
    "turtle.exitonclick()"
   ]
  },
  {
   "cell_type": "code",
   "execution_count": 12,
   "metadata": {},
   "outputs": [],
   "source": [
    "#triangle\n",
    "\n",
    "import turtle\n",
    "turtle.shape(\"turtle\")\n",
    "for i in range(0,4):\n",
    "    turtle.right(120)\n",
    "    turtle.forward(100)\n",
    "turtle.exitonclick()"
   ]
  },
  {
   "cell_type": "code",
   "execution_count": 14,
   "metadata": {},
   "outputs": [],
   "source": [
    "#circle\n",
    "\n",
    "import turtle\n",
    "turtle.shape(\"turtle\")\n",
    "for i in range(0,360):\n",
    "    turtle.forward(1)\n",
    "    turtle.right(1)\n",
    "turtle.exitonclick()"
   ]
  },
  {
   "cell_type": "code",
   "execution_count": 16,
   "metadata": {},
   "outputs": [],
   "source": [
    "\n",
    "#star\n",
    "import turtle\n",
    "turtle.shape(\"turtle\")\n",
    "for i in range(0,5):\n",
    "    turtle.forward(100)\n",
    "    turtle.right(144)\n",
    "turtle.exitonclick()"
   ]
  },
  {
   "cell_type": "code",
   "execution_count": 18,
   "metadata": {},
   "outputs": [],
   "source": [
    "import turtle\n",
    "import random\n",
    "turtle.shape(\"turtle\")\n",
    "turtle.pensize(5)\n",
    "for i in range(0,7):\n",
    "    turtle.color(\"red\",\"blue\")\n",
    "    turtle.forward(50)\n",
    "    turtle.right(45)\n",
    "turtle.exitonclick()"
   ]
  },
  {
   "cell_type": "code",
   "execution_count": null,
   "metadata": {},
   "outputs": [],
   "source": []
  }
 ],
 "metadata": {
  "kernelspec": {
   "display_name": "Python 3",
   "language": "python",
   "name": "python3"
  },
  "language_info": {
   "codemirror_mode": {
    "name": "ipython",
    "version": 3
   },
   "file_extension": ".py",
   "mimetype": "text/x-python",
   "name": "python",
   "nbconvert_exporter": "python",
   "pygments_lexer": "ipython3",
   "version": "3.7.4"
  }
 },
 "nbformat": 4,
 "nbformat_minor": 2
}

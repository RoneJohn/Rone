{
 "cells": [
  {
   "cell_type": "code",
   "execution_count": 2,
   "metadata": {},
   "outputs": [
    {
     "name": "stdout",
     "output_type": "stream",
     "text": [
      "The ASCII value of 'p' is 112\n"
     ]
    }
   ],
   "source": [
    "c = 'p'\n",
    "print(\"The ASCII value of '\" + c + \"' is\", ord(c))\n"
   ]
  },
  {
   "cell_type": "code",
   "execution_count": 26,
   "metadata": {},
   "outputs": [
    {
     "name": "stdout",
     "output_type": "stream",
     "text": [
      "enter start value2\n",
      "enter end value5\n",
      "2 Its a prime\n",
      "\t\n",
      "3 Its a prime\n",
      "\t\n",
      "4 it is not prime\n"
     ]
    }
   ],
   "source": [
    "#print prime no within range\n",
    "\n",
    "\n",
    "s=int(input(\"enter start value\"))\n",
    "e=int(input(\"enter end value\"))\n",
    "for k in range(s,e):\n",
    "    b=0\n",
    "    for i in range(2,k):\n",
    "        if k % i==0:\n",
    "            b+=1\n",
    "        else:\n",
    "            print(\"\\t\")\n",
    "    if b>=1:\n",
    "        print(k,\"not prime\")\n",
    "    else:\n",
    "        print(k,\" prime\")\n",
    "        \n",
    "        \n",
    "        \n",
    "        \n",
    "        \n",
    "        \n",
    "        \n"
   ]
  },
  {
   "cell_type": "code",
   "execution_count": 28,
   "metadata": {},
   "outputs": [
    {
     "name": "stdout",
     "output_type": "stream",
     "text": [
      "enter limit10\n",
      "The series is 1\n",
      "The series is 2\n",
      "The series is 3\n",
      "The series is 5\n",
      "The series is 8\n",
      "The series is 13\n",
      "The series is 21\n",
      "The series is 34\n",
      "The series is 55\n",
      "The series is 89\n"
     ]
    }
   ],
   "source": [
    "#fibnocci series\n",
    "a=0\n",
    "b=1\n",
    "n=int(input(\"enter limit\"))\n",
    "for i in range(n):\n",
    "    c=a+b\n",
    "    a=b\n",
    "    b=c\n",
    "    print(\"The series is\", c)"
   ]
  },
  {
   "cell_type": "code",
   "execution_count": 59,
   "metadata": {},
   "outputs": [
    {
     "name": "stdout",
     "output_type": "stream",
     "text": [
      "Enter any number: 4\n",
      "The number is not a Perfect number!\n"
     ]
    }
   ],
   "source": [
    "# check  no is perfect or not\n",
    "\n",
    "n = int(input(\"Enter any number: \"))\n",
    "sum = 0\n",
    "for i in range(1, n):\n",
    "    if(n % i == 0):\n",
    "        sum = sum + i\n",
    "if (sum == n):\n",
    "    print(\"The number is a Perfect number!\")\n",
    "else:\n",
    "    print(\"The number is not a Perfect number!\")"
   ]
  },
  {
   "cell_type": "code",
   "execution_count": 1,
   "metadata": {},
   "outputs": [
    {
     "name": "stdout",
     "output_type": "stream",
     "text": [
      "Enter start number: 5\n",
      "Enter end number: 10\n",
      " \n",
      " \n",
      " \n",
      "The number is not a Perfect number 5\n",
      " \n",
      " \n",
      "The number is a Perfect number 6\n",
      " \n",
      " \n",
      " \n",
      " \n",
      " \n",
      "The number is not a Perfect number 7\n",
      " \n",
      " \n",
      " \n",
      " \n",
      "The number is not a Perfect number 8\n",
      " \n",
      " \n",
      " \n",
      " \n",
      " \n",
      " \n",
      "The number is not a Perfect number 9\n"
     ]
    }
   ],
   "source": [
    "#Display perfect no within range\n",
    "\n",
    "a = int(input(\"Enter start number: \"))\n",
    "b = int(input(\"Enter end number: \"))\n",
    "for j in range(a,b):\n",
    "        s=0\n",
    "        for i in range(1, j):\n",
    "            if(j % i == 0):\n",
    "                s=s+ i\n",
    "            else:\n",
    "                print(\" \")\n",
    "        if (s == j):\n",
    "            print(\"The number is a Perfect number\" ,j)\n",
    "        else:\n",
    "            print(\"The number is not a Perfect number\",j)\n",
    "            ##difference between an interpreter and a compiler<br>"
   ]
  },
  {
   "cell_type": "markdown",
   "metadata": {},
   "source": [
    "\n",
    "**Difference between compiler and interpreter<br>**\n",
    "\n",
    "\n",
    "\n",
    "Interpreter\t                                                                                                                             Compiler\n",
    "------------------------------------------------------------------------------------------------------------------------------------\n",
    "Translates program one statement at a time.                           \tScans the entire program and translates it as a whole into                                                                     machine code.\n",
    "It takes less amount of time to analyze the source code                 It takes large amount of time to analyze the source code\n",
    " but the overall execution time is slower                                                                    but the overall execution time is comparatively faster.\n",
    "                \n",
    "No intermediate object code is generated,                            Generates intermediate object code which further requires \n",
    "                                                                      linking, hence requires more memory.\n",
    "hence are memory efficient.\t                                     \n",
    "Continues translating the program until the first error is met,     It generates the error message only after scanning the whole program. \n",
    " in which case it stops. Hence debugging is easy.                   Hence debugging is comparatively hard. \n",
    "\t        \n",
    "Programming language like Python, Ruby use interpreters.\t          Programming language like C, C++ use compilers."
   ]
  },
  {
   "cell_type": "markdown",
   "metadata": {},
   "source": [
    "##strings try all buit-in functions;\n",
    "\n",
    "ord(\"a\")"
   ]
  },
  {
   "cell_type": "code",
   "execution_count": 4,
   "metadata": {},
   "outputs": [
    {
     "data": {
      "text/plain": [
       "35"
      ]
     },
     "execution_count": 4,
     "metadata": {},
     "output_type": "execute_result"
    }
   ],
   "source": [
    "ord('#')"
   ]
  },
  {
   "cell_type": "code",
   "execution_count": 5,
   "metadata": {},
   "outputs": [
    {
     "data": {
      "text/plain": [
       "'a'"
      ]
     },
     "execution_count": 5,
     "metadata": {},
     "output_type": "execute_result"
    }
   ],
   "source": [
    "chr(97)"
   ]
  },
  {
   "cell_type": "code",
   "execution_count": 6,
   "metadata": {},
   "outputs": [
    {
     "data": {
      "text/plain": [
       "'7'"
      ]
     },
     "execution_count": 6,
     "metadata": {},
     "output_type": "execute_result"
    }
   ],
   "source": [
    "chr(55)"
   ]
  },
  {
   "cell_type": "code",
   "execution_count": 7,
   "metadata": {},
   "outputs": [
    {
     "data": {
      "text/plain": [
       "'49.2'"
      ]
     },
     "execution_count": 7,
     "metadata": {},
     "output_type": "execute_result"
    }
   ],
   "source": [
    "str(49.2)"
   ]
  },
  {
   "cell_type": "code",
   "execution_count": 8,
   "metadata": {},
   "outputs": [
    {
     "data": {
      "text/plain": [
       "'f'"
      ]
     },
     "execution_count": 8,
     "metadata": {},
     "output_type": "execute_result"
    }
   ],
   "source": [
    "str(\"f\")"
   ]
  },
  {
   "cell_type": "code",
   "execution_count": 9,
   "metadata": {},
   "outputs": [
    {
     "name": "stdout",
     "output_type": "stream",
     "text": [
      "11\n"
     ]
    }
   ],
   "source": [
    "s=\"anniversary\"\n",
    "print(len(s))"
   ]
  },
  {
   "cell_type": "code",
   "execution_count": 10,
   "metadata": {},
   "outputs": [
    {
     "name": "stdout",
     "output_type": "stream",
     "text": [
      "n\n"
     ]
    }
   ],
   "source": [
    "a=s[1]\n",
    "print(a)"
   ]
  },
  {
   "cell_type": "code",
   "execution_count": 12,
   "metadata": {},
   "outputs": [
    {
     "name": "stdout",
     "output_type": "stream",
     "text": [
      "4\n"
     ]
    }
   ],
   "source": [
    "print(s.index(\"v\"))"
   ]
  },
  {
   "cell_type": "code",
   "execution_count": 13,
   "metadata": {},
   "outputs": [
    {
     "name": "stdout",
     "output_type": "stream",
     "text": [
      "4\n"
     ]
    }
   ],
   "source": [
    "print(s.index(\"ver\"))"
   ]
  },
  {
   "cell_type": "code",
   "execution_count": 14,
   "metadata": {},
   "outputs": [
    {
     "name": "stdout",
     "output_type": "stream",
     "text": [
      "y\n"
     ]
    }
   ],
   "source": [
    "print(s[-1])"
   ]
  },
  {
   "cell_type": "code",
   "execution_count": 16,
   "metadata": {},
   "outputs": [
    {
     "name": "stdout",
     "output_type": "stream",
     "text": [
      "anni\n"
     ]
    }
   ],
   "source": [
    "b=s[0:4]\n",
    "print(b)"
   ]
  },
  {
   "cell_type": "code",
   "execution_count": 21,
   "metadata": {},
   "outputs": [
    {
     "name": "stdout",
     "output_type": "stream",
     "text": [
      "anniversari\n"
     ]
    }
   ],
   "source": [
    "\n",
    "s=\"anniversary\"\n",
    "s=s.replace(\"y\",\"i\")\n",
    "print(s)"
   ]
  },
  {
   "cell_type": "code",
   "execution_count": 22,
   "metadata": {},
   "outputs": [
    {
     "name": "stdout",
     "output_type": "stream",
     "text": [
      "ANNIVERSARI\n"
     ]
    }
   ],
   "source": [
    "print(s.upper())"
   ]
  },
  {
   "cell_type": "code",
   "execution_count": 23,
   "metadata": {},
   "outputs": [
    {
     "name": "stdout",
     "output_type": "stream",
     "text": [
      "anniversari\n"
     ]
    }
   ],
   "source": [
    "print(s.lower())"
   ]
  },
  {
   "cell_type": "code",
   "execution_count": 24,
   "metadata": {},
   "outputs": [
    {
     "name": "stdout",
     "output_type": "stream",
     "text": [
      "Anniversari\n"
     ]
    }
   ],
   "source": [
    "print(s.title())"
   ]
  },
  {
   "cell_type": "code",
   "execution_count": 25,
   "metadata": {},
   "outputs": [
    {
     "name": "stdout",
     "output_type": "stream",
     "text": [
      "0\n"
     ]
    }
   ],
   "source": [
    "print(s.rfind(\"anni\"))"
   ]
  },
  {
   "cell_type": "code",
   "execution_count": 26,
   "metadata": {},
   "outputs": [
    {
     "name": "stdout",
     "output_type": "stream",
     "text": [
      "-1\n"
     ]
    }
   ],
   "source": [
    "print(s.rfind(\"gra\"))"
   ]
  },
  {
   "cell_type": "code",
   "execution_count": 27,
   "metadata": {},
   "outputs": [
    {
     "name": "stdout",
     "output_type": "stream",
     "text": [
      "True\n"
     ]
    }
   ],
   "source": [
    "print(s.startswith(\"anni\"))"
   ]
  },
  {
   "cell_type": "code",
   "execution_count": 28,
   "metadata": {},
   "outputs": [
    {
     "name": "stdout",
     "output_type": "stream",
     "text": [
      "True\n"
     ]
    }
   ],
   "source": [
    "print(s.endswith(\"sari\"))"
   ]
  },
  {
   "cell_type": "code",
   "execution_count": 30,
   "metadata": {},
   "outputs": [
    {
     "name": "stdout",
     "output_type": "stream",
     "text": [
      "True\n"
     ]
    }
   ],
   "source": [
    "print(s.isalnum())"
   ]
  },
  {
   "cell_type": "code",
   "execution_count": 31,
   "metadata": {},
   "outputs": [
    {
     "name": "stdout",
     "output_type": "stream",
     "text": [
      "True\n"
     ]
    }
   ],
   "source": [
    "print(s.isalpha())"
   ]
  },
  {
   "cell_type": "code",
   "execution_count": 32,
   "metadata": {},
   "outputs": [
    {
     "name": "stdout",
     "output_type": "stream",
     "text": [
      "False\n"
     ]
    }
   ],
   "source": [
    "print(s.isdigit())"
   ]
  },
  {
   "cell_type": "code",
   "execution_count": 33,
   "metadata": {},
   "outputs": [
    {
     "name": "stdout",
     "output_type": "stream",
     "text": [
      "False\n"
     ]
    }
   ],
   "source": [
    "print(s.isspace())"
   ]
  },
  {
   "cell_type": "code",
   "execution_count": 34,
   "metadata": {},
   "outputs": [
    {
     "name": "stdout",
     "output_type": "stream",
     "text": [
      "anniversari\n"
     ]
    }
   ],
   "source": [
    "print(s.lstrip())"
   ]
  },
  {
   "cell_type": "code",
   "execution_count": 35,
   "metadata": {},
   "outputs": [
    {
     "name": "stdout",
     "output_type": "stream",
     "text": [
      "anniversari\n"
     ]
    }
   ],
   "source": [
    "print(s.lstrip())\n"
   ]
  },
  {
   "cell_type": "code",
   "execution_count": 36,
   "metadata": {},
   "outputs": [
    {
     "name": "stdout",
     "output_type": "stream",
     "text": [
      "anni sary\n"
     ]
    }
   ],
   "source": [
    "s=\"anni sary\"\n",
    "print(s.strip())"
   ]
  },
  {
   "cell_type": "code",
   "execution_count": 11,
   "metadata": {},
   "outputs": [
    {
     "name": "stdout",
     "output_type": "stream",
     "text": [
      "['python', 'program']\n"
     ]
    }
   ],
   "source": [
    "a=\"program\"\n",
    "b=\"python_program\"\n",
    "print(b.split('_'))"
   ]
  },
  {
   "cell_type": "markdown",
   "metadata": {},
   "source": [
    "#Reverse strings using queue.**<br>"
   ]
  },
  {
   "cell_type": "code",
   "execution_count": 4,
   "metadata": {},
   "outputs": [
    {
     "name": "stdout",
     "output_type": "stream",
     "text": [
      "o, l, l, e, h, "
     ]
    }
   ],
   "source": [
    "from queue import Queue  \n",
    "  \n",
    "# Utility function to print the queue  \n",
    "def Print(queue): \n",
    "    while (not queue.empty()): \n",
    "        print(queue.queue[0], end = \", \")  \n",
    "        queue.get() \n",
    "  \n",
    "# Function to reverse the queue  \n",
    "def reversequeue(queue): \n",
    "    Stack = []  \n",
    "    while (not queue.empty()):  \n",
    "        Stack.append(queue.queue[0])  \n",
    "        queue.get() \n",
    "    while (len(Stack) != 0):  \n",
    "        queue.put(Stack[-1])  \n",
    "        Stack.pop() \n",
    "  \n",
    "# Driver code  \n",
    "if __name__ == '__main__': \n",
    "    queue = Queue() \n",
    "    queue.put(\"h\")  \n",
    "    queue.put(\"e\")  \n",
    "    queue.put(\"l\")  \n",
    "    queue.put(\"l\")  \n",
    "    queue.put(\"o\")\n",
    "    \n",
    "    reversequeue(queue)  \n",
    "    Print(queue) "
   ]
  },
  {
   "cell_type": "code",
   "execution_count": null,
   "metadata": {},
   "outputs": [],
   "source": []
  }
 ],
 "metadata": {
  "kernelspec": {
   "display_name": "Python 3",
   "language": "python",
   "name": "python3"
  },
  "language_info": {
   "codemirror_mode": {
    "name": "ipython",
    "version": 3
   },
   "file_extension": ".py",
   "mimetype": "text/x-python",
   "name": "python",
   "nbconvert_exporter": "python",
   "pygments_lexer": "ipython3",
   "version": "3.7.4"
  }
 },
 "nbformat": 4,
 "nbformat_minor": 2
}
